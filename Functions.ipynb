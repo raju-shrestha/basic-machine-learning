{
 "cells": [
  {
   "cell_type": "markdown",
   "metadata": {},
   "source": [
    "A function is a block of organized, reusable sets of instructions that is used to peform some related actions.\n",
    "\n",
    "User Defined Functions\n",
    "Build in Functions"
   ]
  },
  {
   "cell_type": "code",
   "execution_count": 8,
   "metadata": {},
   "outputs": [
    {
     "name": "stdout",
     "output_type": "stream",
     "text": [
      "10\n",
      "20\n",
      "Sum is 30\n"
     ]
    }
   ],
   "source": [
    "def function(a,b):\n",
    "    print(a)\n",
    "    print(b)\n",
    "    c=a+b\n",
    "    print(\"Sum is\",c)\n",
    "function(10,20)"
   ]
  },
  {
   "cell_type": "code",
   "execution_count": 9,
   "metadata": {},
   "outputs": [
    {
     "name": "stdout",
     "output_type": "stream",
     "text": [
      "10\n",
      "20\n"
     ]
    },
    {
     "data": {
      "text/plain": [
       "30"
      ]
     },
     "execution_count": 9,
     "metadata": {},
     "output_type": "execute_result"
    }
   ],
   "source": [
    "def function(a,b):\n",
    "    print(a)\n",
    "    print(b)\n",
    "    return(a+b)\n",
    "function(10,20)"
   ]
  },
  {
   "cell_type": "code",
   "execution_count": 10,
   "metadata": {},
   "outputs": [
    {
     "name": "stdout",
     "output_type": "stream",
     "text": [
      "This is my first functions\n"
     ]
    }
   ],
   "source": [
    "# Used Defined Function\n",
    "def myfunction(): # Define function\n",
    "    print(\"This is my first functions\")\n",
    "# Calling Function\n",
    "myfunction()"
   ]
  },
  {
   "cell_type": "code",
   "execution_count": 7,
   "metadata": {},
   "outputs": [],
   "source": [
    " # Defining function with parameter\n",
    "def add(num1, num2):\n",
    "    sum = num1 + num2\n",
    "    print(\"The sum of %s and %s is %i\"%(num1, num2, sum))"
   ]
  },
  {
   "cell_type": "code",
   "execution_count": 13,
   "metadata": {},
   "outputs": [
    {
     "name": "stdout",
     "output_type": "stream",
     "text": [
      "The sum of 12 and 13 is 25\n"
     ]
    }
   ],
   "source": [
    "# Calling the function\n",
    "add(12, 13)"
   ]
  },
  {
   "cell_type": "code",
   "execution_count": 18,
   "metadata": {},
   "outputs": [
    {
     "data": {
      "text/plain": [
       "25"
      ]
     },
     "execution_count": 18,
     "metadata": {},
     "output_type": "execute_result"
    }
   ],
   "source": [
    "def function(num1, num2):\n",
    "    return num1 + num2\n",
    "function(12,13)"
   ]
  },
  {
   "cell_type": "code",
   "execution_count": 19,
   "metadata": {},
   "outputs": [
    {
     "data": {
      "text/plain": [
       "3"
      ]
     },
     "execution_count": 19,
     "metadata": {},
     "output_type": "execute_result"
    }
   ],
   "source": [
    "# Build-in Function\n",
    "round(3.14)"
   ]
  },
  {
   "cell_type": "code",
   "execution_count": 22,
   "metadata": {},
   "outputs": [
    {
     "data": {
      "text/plain": [
       "2.58"
      ]
     },
     "execution_count": 22,
     "metadata": {},
     "output_type": "execute_result"
    }
   ],
   "source": [
    "abs(-2.58)"
   ]
  },
  {
   "cell_type": "code",
   "execution_count": 25,
   "metadata": {},
   "outputs": [
    {
     "name": "stdout",
     "output_type": "stream",
     "text": [
      "The value of b is 10\n",
      "The updated value of b is 100\n"
     ]
    }
   ],
   "source": [
    "# Pass by Value\n",
    "def function(b):\n",
    "    print(\"The value of b is\", b)\n",
    "    b = 100\n",
    "    print(\"The updated value of b is\", b)\n",
    "function(10)"
   ]
  },
  {
   "cell_type": "code",
   "execution_count": 28,
   "metadata": {},
   "outputs": [
    {
     "name": "stdout",
     "output_type": "stream",
     "text": [
      "The value of c is [12, 13, 14]\n",
      "The updated value of c is [100, 90, 14]\n"
     ]
    }
   ],
   "source": [
    "# Pass by Reference\n",
    "def function(c):\n",
    "    print(\"The value of c is\",c)\n",
    "    c[0] = 100\n",
    "    c[1] = 90\n",
    "    print(\"The updated value of c is\", c)\n",
    "function([12,13,14])"
   ]
  },
  {
   "cell_type": "code",
   "execution_count": null,
   "metadata": {},
   "outputs": [],
   "source": []
  }
 ],
 "metadata": {
  "kernelspec": {
   "display_name": "Python 3",
   "language": "python",
   "name": "python3"
  },
  "language_info": {
   "codemirror_mode": {
    "name": "ipython",
    "version": 3
   },
   "file_extension": ".py",
   "mimetype": "text/x-python",
   "name": "python",
   "nbconvert_exporter": "python",
   "pygments_lexer": "ipython3",
   "version": "3.6.6"
  }
 },
 "nbformat": 4,
 "nbformat_minor": 2
}
