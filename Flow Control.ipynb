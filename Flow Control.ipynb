{
 "cells": [
  {
   "cell_type": "markdown",
   "metadata": {},
   "source": [
    "## If else case\n"
   ]
  },
  {
   "cell_type": "code",
   "execution_count": 1,
   "metadata": {},
   "outputs": [
    {
     "name": "stdout",
     "output_type": "stream",
     "text": [
      "Enter the first number:\n",
      "10\n",
      "Enter the second number:\n",
      "20\n",
      "20 is greater than 10\n"
     ]
    }
   ],
   "source": [
    "print(\"Enter the first number:\")\n",
    "num1=input()\n",
    "print(\"Enter the second number:\")\n",
    "num2=input()\n",
    "if(num1>num2):\n",
    "    print(\"%s is greater than %s\"(num1, num2))\n",
    "else:\n",
    "    print(\"%s is greater than %s\"%(num2, num1))\n",
    "    "
   ]
  },
  {
   "cell_type": "markdown",
   "metadata": {},
   "source": [
    "# Nested if "
   ]
  },
  {
   "cell_type": "code",
   "execution_count": 4,
   "metadata": {},
   "outputs": [
    {
     "name": "stdout",
     "output_type": "stream",
     "text": [
      "Enter the first number:\n",
      "30\n",
      "Enter the second number:\n",
      "10\n",
      "Enter the third number:\n",
      "20\n",
      "30 is greater than 10 and 20\n"
     ]
    }
   ],
   "source": [
    "print(\"Enter the first number:\")\n",
    "num1=input()\n",
    "print(\"Enter the second number:\")\n",
    "num2=input()\n",
    "print(\"Enter the third number:\")\n",
    "num3=input()\n",
    "if(num1>num2 and num1>num3):\n",
    "    print(\"%s is greater than %s and %s\"%(num1,num2,num3))\n",
    "elif(num2>num1 and num2>num3):\n",
    "    print(\"%s is greater than %s and %s\"%(num2, num1, num3))\n",
    "else:\n",
    "    print(\"%s is greater than %s and %s\"%(num3, num1, num2)) \n"
   ]
  },
  {
   "cell_type": "code",
   "execution_count": 1,
   "metadata": {},
   "outputs": [
    {
     "name": "stdout",
     "output_type": "stream",
     "text": [
      "B is greater than A\n"
     ]
    }
   ],
   "source": [
    "# Using Function\n",
    "def function(a, b):\n",
    "    if(a > b):\n",
    "        print(\"A is grater than B\")\n",
    "    elif(b > a):\n",
    "        print(\"B is greater than A\")\n",
    "    elif(a==b):\n",
    "        print(\"Both are equal\")\n",
    "function(20,30)"
   ]
  },
  {
   "cell_type": "code",
   "execution_count": 7,
   "metadata": {},
   "outputs": [
    {
     "name": "stdout",
     "output_type": "stream",
     "text": [
      "apples\n",
      "bananas\n",
      "mangoes\n"
     ]
    }
   ],
   "source": [
    "# Using list\n",
    "myList =[\"apples\", \"bananas\", \"mangoes\"]\n",
    "for x in myList: # x is any value in list\n",
    "    print(x)"
   ]
  },
  {
   "cell_type": "code",
   "execution_count": 8,
   "metadata": {},
   "outputs": [
    {
     "name": "stdout",
     "output_type": "stream",
     "text": [
      "O\n",
      "r\n",
      "a\n",
      "n\n",
      "g\n",
      "e\n"
     ]
    }
   ],
   "source": [
    "# Print the individual elements of string\n",
    "str1 = \"Orange\"\n",
    "for value in str1:\n",
    "    print(value)\n",
    "    "
   ]
  },
  {
   "cell_type": "code",
   "execution_count": 7,
   "metadata": {},
   "outputs": [
    {
     "name": "stdout",
     "output_type": "stream",
     "text": [
      "1\n",
      "2\n",
      "3\n",
      "4\n",
      "5\n",
      "6\n",
      "7\n",
      "8\n",
      "9\n",
      "10\n"
     ]
    }
   ],
   "source": [
    "# Printing a number from 1 to 10 using for loop\n",
    "for x in range(1,11):\n",
    "    print(x)\n"
   ]
  },
  {
   "cell_type": "code",
   "execution_count": 8,
   "metadata": {},
   "outputs": [
    {
     "name": "stdout",
     "output_type": "stream",
     "text": [
      "0\n",
      "1\n",
      "2\n",
      "3\n",
      "4\n",
      "5\n",
      "6\n",
      "7\n",
      "8\n",
      "9\n"
     ]
    }
   ],
   "source": [
    "for x in range(10):\n",
    "    print(x)"
   ]
  },
  {
   "cell_type": "code",
   "execution_count": 9,
   "metadata": {},
   "outputs": [
    {
     "name": "stdout",
     "output_type": "stream",
     "text": [
      "0\n",
      "2\n",
      "4\n",
      "6\n",
      "8\n",
      "10\n",
      "12\n",
      "14\n",
      "16\n",
      "18\n"
     ]
    }
   ],
   "source": [
    "# Find all the even number from 0 to 20\n",
    "for x in range(0,20,2): # Stats from 0 and end before 20 and with step 2\n",
    "    print(x)"
   ]
  },
  {
   "cell_type": "code",
   "execution_count": 10,
   "metadata": {},
   "outputs": [
    {
     "name": "stdout",
     "output_type": "stream",
     "text": [
      "0\n",
      "2\n",
      "4\n",
      "6\n",
      "8\n",
      "10\n",
      "12\n",
      "14\n",
      "16\n",
      "18\n",
      "20\n"
     ]
    }
   ],
   "source": [
    "# Print all even number from 1 to 20 using for loop\n",
    "for x in range(21):\n",
    "    if(x%2==0): # It's a even number\n",
    "        print(x)"
   ]
  },
  {
   "cell_type": "markdown",
   "metadata": {},
   "source": [
    "## While"
   ]
  },
  {
   "cell_type": "markdown",
   "metadata": {},
   "source": [
    "While loop keeps on iterating until the certain condition is met"
   ]
  },
  {
   "cell_type": "code",
   "execution_count": 12,
   "metadata": {},
   "outputs": [
    {
     "name": "stdout",
     "output_type": "stream",
     "text": [
      "0\n",
      "2\n",
      "4\n",
      "6\n",
      "8\n",
      "10\n",
      "12\n",
      "14\n",
      "16\n",
      "18\n",
      "20\n"
     ]
    }
   ],
   "source": [
    "# Print all even number from 1 to 20 using while loop\n",
    "i=0\n",
    "while i<=20:\n",
    "    print(i)\n",
    "    i+=2  # Increament the value of i by 2\n",
    "    "
   ]
  },
  {
   "cell_type": "code",
   "execution_count": 13,
   "metadata": {},
   "outputs": [
    {
     "name": "stdout",
     "output_type": "stream",
     "text": [
      "0\n",
      "1\n",
      "2\n"
     ]
    }
   ],
   "source": [
    "# Break -> Exit the loop \n",
    "i=0\n",
    "while i<=10:\n",
    "    if(i==3):\n",
    "        break\n",
    "    print(i)\n",
    "    i+=1\n"
   ]
  },
  {
   "cell_type": "code",
   "execution_count": 14,
   "metadata": {},
   "outputs": [
    {
     "name": "stdout",
     "output_type": "stream",
     "text": [
      "0\n",
      "1\n",
      "2\n"
     ]
    }
   ],
   "source": [
    "for i in range(10):\n",
    "    if(i==3):\n",
    "        break\n",
    "    print(i)\n",
    "    i+=1\n",
    "        "
   ]
  },
  {
   "cell_type": "code",
   "execution_count": 2,
   "metadata": {},
   "outputs": [
    {
     "name": "stdout",
     "output_type": "stream",
     "text": [
      "0\n",
      "1\n",
      "1\n",
      "2\n",
      "2\n",
      "3\n",
      "4\n",
      "4\n",
      "5\n",
      "5\n",
      "6\n",
      "6\n",
      "7\n",
      "7\n",
      "8\n",
      "8\n",
      "9\n",
      "9\n",
      "10\n",
      "10\n",
      "11\n"
     ]
    }
   ],
   "source": [
    "# Continue -> Skipping \n",
    "i=0\n",
    "while i<=10:\n",
    "    i+=1     # Increment the value of i\n",
    "    if i==3: # Condition\n",
    "        continue # Skipping the value i=3\n",
    "    print(i)"
   ]
  },
  {
   "cell_type": "code",
   "execution_count": 6,
   "metadata": {},
   "outputs": [],
   "source": [
    "# Pass -> Complete the syntax\n",
    "def function(a,b):\n",
    "    if(a>b):\n",
    "        print(\"A is greater than B\")\n",
    "    elif(a==b):\n",
    "        pass\n",
    "    elif(a<b):\n",
    "        print(\"A is lesser than B\")\n",
    "function(10,20)"
   ]
  },
  {
   "cell_type": "markdown",
   "metadata": {},
   "source": [
    "# Calculating a Factorial\n"
   ]
  },
  {
   "cell_type": "code",
   "execution_count": 11,
   "metadata": {},
   "outputs": [
    {
     "data": {
      "text/plain": [
       "120"
      ]
     },
     "execution_count": 11,
     "metadata": {},
     "output_type": "execute_result"
    }
   ],
   "source": [
    "def factorial(n):\n",
    "    if(n==0):\n",
    "        return 1 # Factorial of 0 is 1\n",
    "    else:\n",
    "        return(n * factorial(n-1))\n",
    "factorial(5)"
   ]
  },
  {
   "cell_type": "code",
   "execution_count": 12,
   "metadata": {},
   "outputs": [
    {
     "data": {
      "text/plain": [
       "120"
      ]
     },
     "execution_count": 12,
     "metadata": {},
     "output_type": "execute_result"
    }
   ],
   "source": [
    "# Easy way to calculate factorial\n",
    "import math\n",
    "fact = math.factorial(5)\n",
    "fact"
   ]
  },
  {
   "cell_type": "markdown",
   "metadata": {},
   "source": [
    "# File Handling"
   ]
  },
  {
   "cell_type": "markdown",
   "metadata": {},
   "source": [
    " Open, Read, Write, Close, Rename are different modes of file handling\n",
    " r = read\n",
    " w = write\n",
    " r+ = both read and write but r+ does not overwrite file\n",
    " W+ = both read and write. But, in w+ if file exist already then w+ will overwrite that file "
   ]
  },
  {
   "cell_type": "code",
   "execution_count": 51,
   "metadata": {},
   "outputs": [
    {
     "name": "stdout",
     "output_type": "stream",
     "text": [
      "\n",
      "\n",
      "\n",
      "\n",
      "\n",
      "\n",
      "\n",
      "\n",
      "\n",
      "0\n"
     ]
    }
   ],
   "source": [
    "import os\n",
    "newfile = open(\"file1.txt\", \"w+\")\n",
    "for i in range(1,10): # 10 not included in range\n",
    "    newfile.write(\"\\n Hello, Welcome to test file\") # Adding text\n",
    "for i in range(1,10):\n",
    "    print(newfile.read()) # Reading file\n",
    "newfile.seek(0) \n",
    "\n",
    "'''Move file pointer seeker\n",
    "Seeker is a point in a file you are already located in.\n",
    "And, 0 is used to point the zeroth position or first line '''\n",
    "\n",
    "print(newfile.tell()) # tell is function\n",
    "\n",
    "newfile.close()  # Close file\n",
    "\n",
    "# New file test.txt file has been added\n"
   ]
  },
  {
   "cell_type": "code",
   "execution_count": 52,
   "metadata": {},
   "outputs": [],
   "source": [
    "# Rename file1.txt to file2.txt\n",
    "os.rename(\"file1.txt\",\"file2.txt\") \n",
    "\n",
    "\n"
   ]
  },
  {
   "cell_type": "code",
   "execution_count": 53,
   "metadata": {},
   "outputs": [],
   "source": [
    "# Remove file\n",
    "os.remove(\"file2.txt\")"
   ]
  },
  {
   "cell_type": "code",
   "execution_count": null,
   "metadata": {},
   "outputs": [],
   "source": []
  }
 ],
 "metadata": {
  "kernelspec": {
   "display_name": "Python 3",
   "language": "python",
   "name": "python3"
  },
  "language_info": {
   "codemirror_mode": {
    "name": "ipython",
    "version": 3
   },
   "file_extension": ".py",
   "mimetype": "text/x-python",
   "name": "python",
   "nbconvert_exporter": "python",
   "pygments_lexer": "ipython3",
   "version": "3.6.6"
  }
 },
 "nbformat": 4,
 "nbformat_minor": 2
}
